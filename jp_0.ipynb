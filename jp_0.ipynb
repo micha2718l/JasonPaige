{
 "cells": [
  {
   "cell_type": "code",
   "execution_count": 1,
   "metadata": {
    "ExecuteTime": {
     "end_time": "2021-10-18T17:09:26.599735Z",
     "start_time": "2021-10-18T17:09:26.458238Z"
    }
   },
   "outputs": [],
   "source": [
    "import numpy as np\n",
    "from PIL import Image\n",
    "import imageio"
   ]
  },
  {
   "cell_type": "code",
   "execution_count": 11,
   "metadata": {
    "ExecuteTime": {
     "end_time": "2021-10-18T17:13:59.615100Z",
     "start_time": "2021-10-18T17:13:59.566278Z"
    }
   },
   "outputs": [
    {
     "ename": "NameError",
     "evalue": "name 'self' is not defined",
     "output_type": "error",
     "traceback": [
      "\u001b[1;31m---------------------------------------------------------------------------\u001b[0m",
      "\u001b[1;31mNameError\u001b[0m                                 Traceback (most recent call last)",
      "\u001b[1;32m<ipython-input-11-bd798d0b371e>\u001b[0m in \u001b[0;36m<module>\u001b[1;34m\u001b[0m\n\u001b[1;32m----> 1\u001b[1;33m \u001b[1;32mclass\u001b[0m \u001b[0mJP\u001b[0m\u001b[1;33m(\u001b[0m\u001b[1;33m)\u001b[0m\u001b[1;33m:\u001b[0m\u001b[1;33m\u001b[0m\u001b[1;33m\u001b[0m\u001b[0m\n\u001b[0m\u001b[0;32m      2\u001b[0m     \u001b[1;32mdef\u001b[0m \u001b[0m__init__\u001b[0m\u001b[1;33m(\u001b[0m\u001b[0mself\u001b[0m\u001b[1;33m,\u001b[0m \u001b[0mwidth\u001b[0m\u001b[1;33m=\u001b[0m\u001b[1;36m1920\u001b[0m\u001b[1;33m,\u001b[0m \u001b[0mheight\u001b[0m\u001b[1;33m=\u001b[0m\u001b[1;36m1080\u001b[0m\u001b[1;33m,\u001b[0m \u001b[0mfps\u001b[0m\u001b[1;33m=\u001b[0m\u001b[1;36m60\u001b[0m\u001b[1;33m,\u001b[0m \u001b[0mtime\u001b[0m\u001b[1;33m=\u001b[0m\u001b[1;36m10\u001b[0m\u001b[1;33m,\u001b[0m \u001b[0mpokeball\u001b[0m\u001b[1;33m=\u001b[0m\u001b[1;32mNone\u001b[0m\u001b[1;33m)\u001b[0m\u001b[1;33m:\u001b[0m\u001b[1;33m\u001b[0m\u001b[1;33m\u001b[0m\u001b[0m\n\u001b[0;32m      3\u001b[0m         \u001b[0mself\u001b[0m\u001b[1;33m.\u001b[0m\u001b[0mwidth\u001b[0m \u001b[1;33m=\u001b[0m \u001b[0mwidth\u001b[0m\u001b[1;33m\u001b[0m\u001b[1;33m\u001b[0m\u001b[0m\n\u001b[0;32m      4\u001b[0m         \u001b[0mself\u001b[0m\u001b[1;33m.\u001b[0m\u001b[0mheight\u001b[0m \u001b[1;33m=\u001b[0m \u001b[0mheight\u001b[0m\u001b[1;33m\u001b[0m\u001b[1;33m\u001b[0m\u001b[0m\n\u001b[0;32m      5\u001b[0m         \u001b[0mself\u001b[0m\u001b[1;33m.\u001b[0m\u001b[0mfps\u001b[0m \u001b[1;33m=\u001b[0m \u001b[0mfps\u001b[0m\u001b[1;33m\u001b[0m\u001b[1;33m\u001b[0m\u001b[0m\n",
      "\u001b[1;32m<ipython-input-11-bd798d0b371e>\u001b[0m in \u001b[0;36mJP\u001b[1;34m()\u001b[0m\n\u001b[0;32m     29\u001b[0m         \u001b[0mimageio\u001b[0m\u001b[1;33m.\u001b[0m\u001b[0mmimwrite\u001b[0m\u001b[1;33m(\u001b[0m\u001b[1;34m'test3.avi'\u001b[0m\u001b[1;33m,\u001b[0m \u001b[0mims\u001b[0m\u001b[1;33m,\u001b[0m \u001b[0mfps\u001b[0m\u001b[1;33m=\u001b[0m\u001b[0mfps\u001b[0m\u001b[1;33m)\u001b[0m\u001b[1;33m\u001b[0m\u001b[1;33m\u001b[0m\u001b[0m\n\u001b[0;32m     30\u001b[0m \u001b[1;33m\u001b[0m\u001b[0m\n\u001b[1;32m---> 31\u001b[1;33m     \u001b[1;32mdef\u001b[0m \u001b[0mmake_image\u001b[0m\u001b[1;33m(\u001b[0m\u001b[0mself\u001b[0m\u001b[1;33m,\u001b[0m \u001b[0miN\u001b[0m\u001b[1;33m,\u001b[0m \u001b[0mX\u001b[0m\u001b[1;33m=\u001b[0m\u001b[0mself\u001b[0m\u001b[1;33m.\u001b[0m\u001b[0mX\u001b[0m\u001b[1;33m,\u001b[0m \u001b[0mY\u001b[0m\u001b[1;33m=\u001b[0m\u001b[0mself\u001b[0m\u001b[1;33m.\u001b[0m\u001b[0mY\u001b[0m\u001b[1;33m,\u001b[0m \u001b[0mpokeball\u001b[0m\u001b[1;33m=\u001b[0m\u001b[0mself\u001b[0m\u001b[1;33m.\u001b[0m\u001b[0mpokeball\u001b[0m\u001b[1;33m)\u001b[0m\u001b[1;33m:\u001b[0m\u001b[1;33m\u001b[0m\u001b[1;33m\u001b[0m\u001b[0m\n\u001b[0m\u001b[0;32m     32\u001b[0m         \u001b[0miS\u001b[0m \u001b[1;33m=\u001b[0m \u001b[1;33m(\u001b[0m\u001b[0mnp\u001b[0m\u001b[1;33m.\u001b[0m\u001b[0msin\u001b[0m\u001b[1;33m(\u001b[0m\u001b[0miN\u001b[0m \u001b[1;33m*\u001b[0m \u001b[1;36m2\u001b[0m \u001b[1;33m*\u001b[0m \u001b[0mnp\u001b[0m\u001b[1;33m.\u001b[0m\u001b[0mpi\u001b[0m\u001b[1;33m)\u001b[0m \u001b[1;33m-\u001b[0m \u001b[1;36m1\u001b[0m\u001b[1;33m)\u001b[0m \u001b[1;33m/\u001b[0m \u001b[1;36m2\u001b[0m\u001b[1;33m\u001b[0m\u001b[1;33m\u001b[0m\u001b[0m\n\u001b[0;32m     33\u001b[0m         \u001b[0mrot\u001b[0m \u001b[1;33m=\u001b[0m \u001b[1;36m2\u001b[0m \u001b[1;33m*\u001b[0m \u001b[0mnp\u001b[0m\u001b[1;33m.\u001b[0m\u001b[0mpi\u001b[0m \u001b[1;33m*\u001b[0m \u001b[0miN\u001b[0m\u001b[1;33m\u001b[0m\u001b[1;33m\u001b[0m\u001b[0m\n",
      "\u001b[1;31mNameError\u001b[0m: name 'self' is not defined"
     ]
    }
   ],
   "source": [
    "class JP():\n",
    "    def __init__(self, width=1920, height=1080, fps=60, time=10, pokeball=None):\n",
    "        self.width = width\n",
    "        self.height = height\n",
    "        self.fps = fps\n",
    "        self.time = time\n",
    "        self.X, self.Y = np.meshgrid(np.linspace(-1, 1, self.width),\n",
    "                                     np.linspace(-1, 1, self.height))\n",
    "        if pokeball is None:\n",
    "            self.pokeball = Image.open('pokeball.png')\n",
    "        else:\n",
    "            self.pokeball = pokeball\n",
    "\n",
    "    def make_movie(self,\n",
    "                   w=1920 / 2,\n",
    "                   h=1080 / 2,\n",
    "                   fps=15,\n",
    "                   time=1,\n",
    "                   pokeball=None):\n",
    "        \n",
    "        i_max = fps * time\n",
    "        ims = []\n",
    "        for i in range(i_max):\n",
    "            pokeball = pokeball.rotate(5)\n",
    "            if (i % fps == 0): print(i)\n",
    "            iN = (i / i_max)\n",
    "            im = self.make_image(iN, self.X, self.Y, pokeball)\n",
    "            ims.append(im.convert('RGB'))\n",
    "            im.convert('RGB').save(f'frames/aajp_0_{i}.png')\n",
    "        imageio.mimwrite('test3.avi', ims, fps=fps)\n",
    "\n",
    "    def make_image(self, iN, X=self.X, Y=self.Y, pokeball=self.pokeball):\n",
    "        iS = (np.sin(iN * 2 * np.pi) - 1) / 2\n",
    "        rot = 2 * np.pi * iN\n",
    "        H = np.sin(iN * X * X * 15 + iS * Y) + np.sin(iN * Y * Y * 15 + iS * X)\n",
    "        S = (0.5 + X * 0)\n",
    "        V = (1 + X * 0)\n",
    "        im = Image.fromarray(self.HSV(H, S, V), 'HSV')\n",
    "        im.paste(pokeball, (330, 120), pokeball)\n",
    "        return im\n",
    "\n",
    "    def normalize(self, n):\n",
    "        n /= np.max(np.abs(n))\n",
    "        n += 1.0\n",
    "        n /= 2.0\n",
    "        n *= (255.0 / n.max())\n",
    "        return n\n",
    "\n",
    "    def HSV(self, H, S, V):\n",
    "        return np.dstack(\n",
    "            [self.normalize(H),\n",
    "             self.normalize(S),\n",
    "             self.normalize(V)]).astype('uint8')\n",
    "\n",
    "    def DoRotation(self, x, y, RotRad=0):\n",
    "        RotMatrix = np.array([[np.cos(RotRad), np.sin(RotRad)],\n",
    "                              [-np.sin(RotRad),\n",
    "                               np.cos(RotRad)]])\n",
    "\n",
    "        return np.einsum('ji, mni -> jmn', RotMatrix, np.dstack([x, y]))"
   ]
  },
  {
   "cell_type": "code",
   "execution_count": 8,
   "metadata": {
    "ExecuteTime": {
     "end_time": "2021-10-18T17:10:47.682069Z",
     "start_time": "2021-10-18T17:10:47.640868Z"
    }
   },
   "outputs": [
    {
     "ename": "NameError",
     "evalue": "name 'X' is not defined",
     "output_type": "error",
     "traceback": [
      "\u001b[1;31m---------------------------------------------------------------------------\u001b[0m",
      "\u001b[1;31mNameError\u001b[0m                                 Traceback (most recent call last)",
      "\u001b[1;32m<ipython-input-8-d2c7ba65b9b1>\u001b[0m in \u001b[0;36m<module>\u001b[1;34m\u001b[0m\n\u001b[1;32m----> 1\u001b[1;33m \u001b[0mim\u001b[0m \u001b[1;33m=\u001b[0m \u001b[0mJP\u001b[0m\u001b[1;33m(\u001b[0m\u001b[1;33m)\u001b[0m\u001b[1;33m.\u001b[0m\u001b[0mmake_image\u001b[0m\u001b[1;33m(\u001b[0m\u001b[1;36m0.5\u001b[0m\u001b[1;33m,\u001b[0m \u001b[0mX\u001b[0m\u001b[1;33m,\u001b[0m \u001b[0mY\u001b[0m\u001b[1;33m,\u001b[0m \u001b[0mpokeball\u001b[0m\u001b[1;33m)\u001b[0m\u001b[1;33m\u001b[0m\u001b[1;33m\u001b[0m\u001b[0m\n\u001b[0m\u001b[0;32m      2\u001b[0m \u001b[0mim\u001b[0m\u001b[1;33m.\u001b[0m\u001b[0mconvert\u001b[0m\u001b[1;33m(\u001b[0m\u001b[1;34m'RGB'\u001b[0m\u001b[1;33m)\u001b[0m\u001b[1;33m\u001b[0m\u001b[1;33m\u001b[0m\u001b[0m\n",
      "\u001b[1;31mNameError\u001b[0m: name 'X' is not defined"
     ]
    }
   ],
   "source": [
    "im = JP().make_image(0.5, X, Y, pokeball)\n",
    "im.convert('RGB')"
   ]
  },
  {
   "cell_type": "code",
   "execution_count": null,
   "metadata": {
    "ExecuteTime": {
     "end_time": "2021-10-18T01:27:43.097063Z",
     "start_time": "2021-10-18T01:27:43.088135Z"
    }
   },
   "outputs": [],
   "source": [
    "j = JP()\n",
    "j.normalize([0,2,9,-9,8])"
   ]
  },
  {
   "cell_type": "code",
   "execution_count": null,
   "metadata": {
    "ExecuteTime": {
     "end_time": "2021-10-17T21:09:20.230406Z",
     "start_time": "2021-10-17T21:09:20.169994Z"
    }
   },
   "outputs": [],
   "source": [
    "pokeball = Image.open('pokeball.png')\n",
    "\n",
    "def normalize(n):\n",
    "    n /= np.max(np.abs(n))\n",
    "    n *= (255.0 / n.max())\n",
    "    return n\n",
    "\n",
    "\n",
    "def HSV(H, S, V):\n",
    "    return np.dstack([normalize(H), normalize(S),\n",
    "                      normalize(V)]).astype('uint8')\n",
    "def DoRotation(x, y, RotRad=0):\n",
    "    \"\"\"Generate a meshgrid and rotate it by RotRad radians.\"\"\"\n",
    "\n",
    "    # Clockwise, 2D rotation matrix\n",
    "    RotMatrix = np.array([[np.cos(RotRad),  np.sin(RotRad)],\n",
    "                          [-np.sin(RotRad), np.cos(RotRad)]])\n",
    "\n",
    "    return np.einsum('ji, mni -> jmn', RotMatrix, np.dstack([x, y]))"
   ]
  },
  {
   "cell_type": "code",
   "execution_count": null,
   "metadata": {
    "ExecuteTime": {
     "end_time": "2021-10-17T21:46:03.753401Z",
     "start_time": "2021-10-17T21:46:03.736405Z"
    }
   },
   "outputs": [],
   "source": [
    "def make_movie(w=1280 / 2, h=720 / 2, fps=30, time=5, pokeball=pokeball):\n",
    "    X, Y = np.meshgrid(np.linspace(-1, 1, w), np.linspace(-1, 1, h))\n",
    "    i_max = fps * time\n",
    "    ims = []\n",
    "    for i in range(i_max):\n",
    "        pokeball = pokeball.rotate(5)\n",
    "        if (i%fps==0): print(i)\n",
    "        iN = (i / i_max)\n",
    "        iS = (np.sin(iN*2*np.pi) -1)/2\n",
    "        rot = 2 * np.pi * iN\n",
    "        H = np.sin(iN * X * X * 15 + iS*Y) + np.sin(iN * Y * Y * 15 + iS*X)\n",
    "        S = (0.5 + X * 0)\n",
    "        V = (1 + X * 0)\n",
    "        im = Image.fromarray(HSV(H, S, V), 'HSV')\n",
    "        im.paste(pokeball, (330, 120), pokeball)\n",
    "        ims.append(im.convert('RGB'))\n",
    "        im.convert('RGB').save(f'frames/aajp_0_{i}.png')\n",
    "    imageio.mimwrite('test3.avi', ims, fps=fps)"
   ]
  },
  {
   "cell_type": "code",
   "execution_count": null,
   "metadata": {
    "ExecuteTime": {
     "end_time": "2021-10-17T22:00:20.673172Z",
     "start_time": "2021-10-17T21:46:05.217486Z"
    }
   },
   "outputs": [],
   "source": [
    "#make_movie(fps=60, time=30, w=1280,h=720)\n",
    "make_movie(fps=60, time=30, w=1920/2,h=1080/2)"
   ]
  }
 ],
 "metadata": {
  "kernelspec": {
   "display_name": "Python 3",
   "language": "python",
   "name": "python3"
  },
  "language_info": {
   "codemirror_mode": {
    "name": "ipython",
    "version": 3
   },
   "file_extension": ".py",
   "mimetype": "text/x-python",
   "name": "python",
   "nbconvert_exporter": "python",
   "pygments_lexer": "ipython3",
   "version": "3.7.3"
  },
  "varInspector": {
   "cols": {
    "lenName": 16,
    "lenType": 16,
    "lenVar": 40
   },
   "kernels_config": {
    "python": {
     "delete_cmd_postfix": "",
     "delete_cmd_prefix": "del ",
     "library": "var_list.py",
     "varRefreshCmd": "print(var_dic_list())"
    },
    "r": {
     "delete_cmd_postfix": ") ",
     "delete_cmd_prefix": "rm(",
     "library": "var_list.r",
     "varRefreshCmd": "cat(var_dic_list()) "
    }
   },
   "types_to_exclude": [
    "module",
    "function",
    "builtin_function_or_method",
    "instance",
    "_Feature"
   ],
   "window_display": false
  }
 },
 "nbformat": 4,
 "nbformat_minor": 2
}
